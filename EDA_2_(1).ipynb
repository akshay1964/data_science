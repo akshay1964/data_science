{
  "nbformat": 4,
  "nbformat_minor": 0,
  "metadata": {
    "kernelspec": {
      "display_name": "Python 3",
      "language": "python",
      "name": "python3"
    },
    "language_info": {
      "codemirror_mode": {
        "name": "ipython",
        "version": 3
      },
      "file_extension": ".py",
      "mimetype": "text/x-python",
      "name": "python",
      "nbconvert_exporter": "python",
      "pygments_lexer": "ipython3",
      "version": "3.7.4"
    },
    "colab": {
      "name": "EDA_2 (1).ipynb",
      "provenance": [],
      "include_colab_link": true
    }
  },
  "cells": [
    {
      "cell_type": "markdown",
      "metadata": {
        "id": "view-in-github",
        "colab_type": "text"
      },
      "source": [
        "<a href=\"https://colab.research.google.com/github/akshay1964/data_science/blob/main/EDA_2_(1).ipynb\" target=\"_parent\"><img src=\"https://colab.research.google.com/assets/colab-badge.svg\" alt=\"Open In Colab\"/></a>"
      ]
    },
    {
      "cell_type": "markdown",
      "metadata": {
        "id": "IvU8Uz85Gfs_"
      },
      "source": [
        "### Label Encoder"
      ]
    },
    {
      "cell_type": "code",
      "metadata": {
        "id": "KdSgB_SAGftG"
      },
      "source": [
        "from sklearn.preprocessing import LabelEncoder\n",
        "import pandas as pd"
      ],
      "execution_count": null,
      "outputs": []
    },
    {
      "cell_type": "code",
      "metadata": {
        "id": "GD2t-j7sGftH"
      },
      "source": [
        "data =pd.read_csv(\"/content/Iris.csv\",index_col=0)"
      ],
      "execution_count": null,
      "outputs": []
    },
    {
      "cell_type": "code",
      "metadata": {
        "id": "dYtsB9KzGftI"
      },
      "source": [
        "data.head()"
      ],
      "execution_count": null,
      "outputs": []
    },
    {
      "cell_type": "code",
      "metadata": {
        "id": "rTv5VMx1GftI"
      },
      "source": [
        "\n",
        "#Changes does not effect the \"data\" dataframe\n",
        "data1=data.copy()"
      ],
      "execution_count": null,
      "outputs": []
    },
    {
      "cell_type": "code",
      "metadata": {
        "id": "TGYVwiy0GftJ"
      },
      "source": [
        "labelencoder = LabelEncoder()\n",
        "data1.iloc[:, -1] = labelencoder.fit_transform(data1.iloc[:,-1])"
      ],
      "execution_count": null,
      "outputs": []
    },
    {
      "cell_type": "code",
      "metadata": {
        "id": "DPCsnLNPGftK"
      },
      "source": [
        "data1"
      ],
      "execution_count": null,
      "outputs": []
    },
    {
      "cell_type": "markdown",
      "metadata": {
        "id": "_oRquiSLGftK"
      },
      "source": [
        "### One Hot Encoder"
      ]
    },
    {
      "cell_type": "markdown",
      "metadata": {
        "id": "dj-tuNkvGftK"
      },
      "source": [
        "#### Using sklearn"
      ]
    },
    {
      "cell_type": "code",
      "metadata": {
        "id": "pxKV-vlsGftL"
      },
      "source": [
        "from sklearn.preprocessing import OneHotEncoder"
      ],
      "execution_count": null,
      "outputs": []
    },
    {
      "cell_type": "code",
      "metadata": {
        "id": "mKqNs9BFGftL"
      },
      "source": [
        "data2=pd.read_csv(\"Iris.csv\")"
      ],
      "execution_count": null,
      "outputs": []
    },
    {
      "cell_type": "code",
      "metadata": {
        "id": "KbwSLwiEGftL"
      },
      "source": [
        "data2"
      ],
      "execution_count": null,
      "outputs": []
    },
    {
      "cell_type": "code",
      "metadata": {
        "id": "dy947nL9GftM"
      },
      "source": [
        "# creating instance of one-hot-encoder\n",
        "enc = OneHotEncoder(handle_unknown='ignore')"
      ],
      "execution_count": null,
      "outputs": []
    },
    {
      "cell_type": "code",
      "metadata": {
        "id": "D3nMzExnGftM"
      },
      "source": [
        "# passing bridge-types-cat column (label encoded values of bridge_types)\n",
        "enc_df = pd.DataFrame(enc.fit_transform(data2[['Species']]).toarray())\n"
      ],
      "execution_count": null,
      "outputs": []
    },
    {
      "cell_type": "code",
      "metadata": {
        "id": "COjtIjvYIPUK"
      },
      "source": [
        "enc.fit_transform(data2[['Species']])"
      ],
      "execution_count": null,
      "outputs": []
    },
    {
      "cell_type": "code",
      "metadata": {
        "id": "_O4Vg06UGftM"
      },
      "source": [
        "\n",
        "enc_df"
      ],
      "execution_count": null,
      "outputs": []
    },
    {
      "cell_type": "code",
      "metadata": {
        "id": "p0fJ7er-GftM"
      },
      "source": [
        "# merge with main df \n",
        "data_final = data2.iloc[:,0:4].join(enc_df)\n",
        "data_final"
      ],
      "execution_count": null,
      "outputs": []
    },
    {
      "cell_type": "markdown",
      "metadata": {
        "id": "aDk0CnoMGftN"
      },
      "source": [
        "#### Using Pandas"
      ]
    },
    {
      "cell_type": "code",
      "metadata": {
        "id": "ta06HqlmGftN"
      },
      "source": [
        "import pandas as pd"
      ],
      "execution_count": null,
      "outputs": []
    },
    {
      "cell_type": "code",
      "metadata": {
        "id": "j50lmM5SGftN"
      },
      "source": [
        "data3 =pd.read_csv(\"Iris.csv\",index_col=0)"
      ],
      "execution_count": null,
      "outputs": []
    },
    {
      "cell_type": "code",
      "metadata": {
        "id": "g5_fII3lGftN"
      },
      "source": [
        "data_encoded=pd.get_dummies(data3)"
      ],
      "execution_count": null,
      "outputs": []
    },
    {
      "cell_type": "code",
      "metadata": {
        "id": "Vz6M4HB9GftO"
      },
      "source": [
        "data_encoded"
      ],
      "execution_count": null,
      "outputs": []
    },
    {
      "cell_type": "markdown",
      "metadata": {
        "id": "B7scMX9cGftO"
      },
      "source": [
        "#### IsolationForest"
      ]
    },
    {
      "cell_type": "code",
      "metadata": {
        "id": "ZJes2-NAGftO"
      },
      "source": [
        "from sklearn.ensemble import IsolationForest"
      ],
      "execution_count": null,
      "outputs": []
    },
    {
      "cell_type": "code",
      "metadata": {
        "id": "2t1gQw7uGftO"
      },
      "source": [
        "data =pd.read_csv(\"Iris.csv\",index_col=0)\n",
        "data_encoded=pd.get_dummies(data)"
      ],
      "execution_count": null,
      "outputs": []
    },
    {
      "cell_type": "code",
      "metadata": {
        "id": "_xRZIi7bKeLX"
      },
      "source": [
        "data_encoded"
      ],
      "execution_count": null,
      "outputs": []
    },
    {
      "cell_type": "code",
      "metadata": {
        "id": "V4Xdg8H2GftO"
      },
      "source": [
        "# training the model\n",
        "clf = IsolationForest(random_state=10,contamination=.01)\n",
        "clf.fit(data_encoded)"
      ],
      "execution_count": null,
      "outputs": []
    },
    {
      "cell_type": "code",
      "metadata": {
        "id": "QapodBWzGftP"
      },
      "source": [
        "\n",
        "# predictions\n",
        "y_pred_outliers = clf.predict(data_encoded)"
      ],
      "execution_count": null,
      "outputs": []
    },
    {
      "cell_type": "code",
      "metadata": {
        "id": "Yk-7z9CBGftP"
      },
      "source": [
        "#-1 for outliers and 1 for inliers.\n",
        "y_pred_outliers"
      ],
      "execution_count": null,
      "outputs": []
    },
    {
      "cell_type": "code",
      "metadata": {
        "id": "yXFLbzTxGftP"
      },
      "source": [
        "data_encoded"
      ],
      "execution_count": null,
      "outputs": []
    },
    {
      "cell_type": "code",
      "metadata": {
        "id": "wJH7w056GftP"
      },
      "source": [
        "## Let us add a new data point which is outlier\n",
        "data_encoded.loc[150]=[20,40,30,50,1,0,0]"
      ],
      "execution_count": null,
      "outputs": []
    },
    {
      "cell_type": "code",
      "metadata": {
        "id": "OgCGNXwgGftP"
      },
      "source": [
        "data_encoded"
      ],
      "execution_count": null,
      "outputs": []
    },
    {
      "cell_type": "markdown",
      "metadata": {
        "id": "LUN2a30ONGGK"
      },
      "source": [
        ""
      ]
    },
    {
      "cell_type": "code",
      "metadata": {
        "id": "0vAm-vcuGftP"
      },
      "source": [
        "# training the model\n",
        "clf = IsolationForest(random_state=10,contamination=.01)\n",
        "clf.fit(data_encoded)\n",
        "# predictions\n",
        "y_pred_outliers = clf.predict(data_encoded)\n",
        "y_pred_outliers"
      ],
      "execution_count": null,
      "outputs": []
    },
    {
      "cell_type": "code",
      "metadata": {
        "id": "ob02J_1QGftQ"
      },
      "source": [
        "data_encoded['scores']=clf.decision_function(data_encoded)"
      ],
      "execution_count": null,
      "outputs": []
    },
    {
      "cell_type": "code",
      "metadata": {
        "id": "8zJUAEAIGftQ"
      },
      "source": [
        "data_encoded['anomaly']=clf.predict(data_encoded.iloc[:,0:7])"
      ],
      "execution_count": null,
      "outputs": []
    },
    {
      "cell_type": "code",
      "metadata": {
        "id": "AxdjdThvGftQ"
      },
      "source": [
        "data_encoded"
      ],
      "execution_count": null,
      "outputs": []
    },
    {
      "cell_type": "code",
      "metadata": {
        "id": "Abobu5GYGftQ"
      },
      "source": [
        "#Print the outlier data points\n",
        "data_encoded[data_encoded['anomaly']==-1]"
      ],
      "execution_count": null,
      "outputs": []
    },
    {
      "cell_type": "markdown",
      "metadata": {
        "id": "_P0mrYYQGftQ"
      },
      "source": [
        "### PPS score"
      ]
    },
    {
      "cell_type": "code",
      "metadata": {
        "id": "z5gkQglFGftR"
      },
      "source": [
        "#install the package\n",
        "!pip install ppscore"
      ],
      "execution_count": null,
      "outputs": []
    },
    {
      "cell_type": "code",
      "metadata": {
        "id": "RtQOL6jWGftR"
      },
      "source": [
        "import ppscore as pps"
      ],
      "execution_count": null,
      "outputs": []
    },
    {
      "cell_type": "code",
      "metadata": {
        "id": "GYca4imWGftR"
      },
      "source": [
        "#pps.score(df, \"feature_column\", \"target_column\")  syntax\n",
        "pps.score(data, \"Sepal.Length\", \"Petal.Length\")"
      ],
      "execution_count": null,
      "outputs": []
    },
    {
      "cell_type": "code",
      "metadata": {
        "id": "N7-5AkByGftR"
      },
      "source": [
        "#calculate the whole PPS matrix\n",
        "pps.matrix(data)"
      ],
      "execution_count": null,
      "outputs": []
    },
    {
      "cell_type": "code",
      "metadata": {
        "id": "Y7pnvFuWGftR"
      },
      "source": [
        ""
      ],
      "execution_count": null,
      "outputs": []
    }
  ]
}